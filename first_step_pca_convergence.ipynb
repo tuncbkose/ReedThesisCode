{
 "cells": [
  {
   "cell_type": "markdown",
   "source": [
    "This is the code to produce the figures for Section 2.3, where we show that the first step of the artificial AMP converges to the PCA estimate quickly"
   ],
   "metadata": {
    "collapsed": false,
    "pycharm": {
     "name": "#%% md\n"
    }
   }
  },
  {
   "cell_type": "code",
   "execution_count": 1,
   "metadata": {
    "collapsed": true,
    "pycharm": {
     "name": "#%%\n"
    }
   },
   "outputs": [],
   "source": [
    "import numpy as np\n",
    "from scipy.stats import norm\n",
    "from scipy import linalg\n",
    "from scipy.stats import semicircular\n",
    "from scipy.special import bernoulli  # for setting2\n",
    "from math import factorial  # for setting2\n",
    "\n",
    "rng = np.random.default_rng(seed=42)"
   ]
  },
  {
   "cell_type": "code",
   "execution_count": 2,
   "outputs": [],
   "source": [
    "import matplotlib.pyplot as plt\n",
    "plt.rcParams.update({'font.size': 16})"
   ],
   "metadata": {
    "collapsed": false,
    "pycharm": {
     "name": "#%%\n"
    }
   }
  },
  {
   "cell_type": "code",
   "execution_count": 3,
   "outputs": [],
   "source": [
    "# Normalized Squared Correlation\n",
    "nsc = lambda x,y: np.dot(x, y) ** 2 / np.linalg.norm(x) ** 2 / np.linalg.norm(y) ** 2"
   ],
   "metadata": {
    "collapsed": false,
    "pycharm": {
     "name": "#%%\n"
    }
   }
  },
  {
   "cell_type": "code",
   "execution_count": 36,
   "outputs": [],
   "source": [
    "def first_step_amp_mp(alpha, u, W, niter):\n",
    "    denoiser = lambda x: x/alpha\n",
    "\n",
    "    n = len(u)\n",
    "    u*(np.sqrt(n)/np.linalg.norm(u))\n",
    "    X = alpha / n * np.outer(u, u) + W\n",
    "\n",
    "    D, V = linalg.eigh(X)\n",
    "    v0 = V[:, -1]\n",
    "    u_pca = np.sqrt(n) * v0\n",
    "    rho_squared = nsc(u, u_pca)\n",
    "    z = rng.normal(size=n)\n",
    "    u_init = np.sqrt(rho_squared)*u + np.sqrt(1-rho_squared)*z\n",
    "\n",
    "    uAMP = dict()\n",
    "    fAMP = dict()\n",
    "    scal = dict()\n",
    "\n",
    "    uAMP[1] = u_init\n",
    "    scal[1] = nsc(uAMP[1], u_pca)\n",
    "\n",
    "    fAMP[1] = X@uAMP[1] - 2*uAMP[1]\n",
    "\n",
    "    uAMP[2] = denoiser(fAMP[1])\n",
    "    scal[2] = nsc(uAMP[2], u_pca)\n",
    "\n",
    "    for jj in range(2, niter):\n",
    "        b = [2*alpha**(-i) for i in range(jj-1, -1, -1)]\n",
    "        fAMP[jj] = X@uAMP[jj] - np.sum([b[i-1]*uAMP[i] for i in range(1, jj+1)], axis=0)\n",
    "        uAMP[jj+1] = denoiser(fAMP[jj])\n",
    "        scal[jj + 1] = nsc(uAMP[jj+1], u_pca)\n",
    "    return uAMP, scal, u_pca"
   ],
   "metadata": {
    "collapsed": false,
    "pycharm": {
     "name": "#%%\n"
    }
   }
  },
  {
   "cell_type": "code",
   "execution_count": 70,
   "outputs": [],
   "source": [
    "n = 1000\n",
    "c = 2\n",
    "alphas = [3, 3.5, 4]\n",
    "niter = 8\n",
    "ntrial = 50\n",
    "\n",
    "data = {alpha: np.zeros(shape=niter) for alpha in alphas}\n",
    "\n",
    "for alpha in alphas:\n",
    "    for trial in range(ntrial):\n",
    "        u = rng.choice([-1, 1], size=n)\n",
    "        p = n * c\n",
    "        A = rng.normal(size=(n,p))\n",
    "        W = 1/n * (A@A.T)\n",
    "        _, scal, _ = first_step_amp_mp(alpha, u, W, niter)\n",
    "        data[alpha] += list(scal.values())\n",
    "    data[alpha] /= ntrial"
   ],
   "metadata": {
    "collapsed": false,
    "pycharm": {
     "name": "#%%\n"
    }
   }
  },
  {
   "cell_type": "code",
   "execution_count": 71,
   "outputs": [
    {
     "data": {
      "text/plain": "<Figure size 432x288 with 1 Axes>",
      "image/png": "[encoded data removed]"
     },
     "metadata": {
      "needs_background": "light"
     },
     "output_type": "display_data"
    }
   ],
   "source": [
    "x = np.arange(1, len(data[alpha])+1)\n",
    "plt.axis([None, None, 0, 1.1])\n",
    "for alpha in alphas:\n",
    "    plt.scatter(x, data[alpha], label=f\"α={alpha}\")\n",
    "plt.xlabel(\"Iterations\")\n",
    "plt.ylabel(\"Correlation\")\n",
    "plt.legend()\n",
    "plt.savefig(\"pca_convergence_over_alpha.png\", bbox_inches=\"tight\")"
   ],
   "metadata": {
    "collapsed": false,
    "pycharm": {
     "name": "#%%\n"
    }
   }
  },
  {
   "cell_type": "code",
   "execution_count": 72,
   "outputs": [],
   "source": [
    "ns = [500, 1000, 2000]\n",
    "c = 2\n",
    "alpha = 4\n",
    "niter = 8\n",
    "ntrial = 50\n",
    "\n",
    "data = {n: np.zeros(shape=niter) for n in ns}\n",
    "\n",
    "for n in ns:\n",
    "    for trial in range(ntrial):\n",
    "        u = rng.choice([-1, 1], size=n)\n",
    "        p = n * c\n",
    "        A = rng.normal(size=(n,p))\n",
    "        W = 1/n * (A@A.T)\n",
    "        _, scal, _ = first_step_amp_mp(alpha, u, W, niter)\n",
    "        data[n] += list(scal.values())\n",
    "    data[n] /= ntrial"
   ],
   "metadata": {
    "collapsed": false,
    "pycharm": {
     "name": "#%%\n"
    }
   }
  },
  {
   "cell_type": "code",
   "execution_count": 73,
   "outputs": [
    {
     "data": {
      "text/plain": "<Figure size 432x288 with 1 Axes>",
      "image/png": "[encoded data removed]"
     },
     "metadata": {
      "needs_background": "light"
     },
     "output_type": "display_data"
    }
   ],
   "source": [
    "x = np.arange(1, len(data[n])+1)\n",
    "plt.axis([None, None, 0, 1.1])\n",
    "for n in ns:\n",
    "    plt.scatter(x, data[n], label=f\"n={n}\")\n",
    "plt.xlabel(\"Iterations\")\n",
    "plt.ylabel(\"Correlation\")\n",
    "plt.legend(loc=\"lower right\")\n",
    "plt.savefig(\"pca_convergence_over_n.png\", bbox_inches=\"tight\")"
   ],
   "metadata": {
    "collapsed": false,
    "pycharm": {
     "name": "#%%\n"
    }
   }
  }
 ],
 "metadata": {
  "kernelspec": {
   "display_name": "Python 3",
   "language": "python",
   "name": "python3"
  },
  "language_info": {
   "codemirror_mode": {
    "name": "ipython",
    "version": 2
   },
   "file_extension": ".py",
   "mimetype": "text/x-python",
   "name": "python",
   "nbconvert_exporter": "python",
   "pygments_lexer": "ipython2",
   "version": "2.7.6"
  }
 },
 "nbformat": 4,
 "nbformat_minor": 0
}